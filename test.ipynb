{
 "cells": [
  {
   "cell_type": "code",
   "execution_count": null,
   "metadata": {},
   "outputs": [],
   "source": [
    "\n",
    "f=open(\"input.txt\",\"r\")\n",
    "stt=f.readline(1)\n",
    "B=int(stt)\n",
    "print(B)\n",
    "a=[]\n",
    "letter=' '\n",
    "for i in stt:\n",
    "    if i!=' ' or i!='\\n':\n",
    "        letter=letter+i\n",
    "    else:\n",
    "        let=int(letter)\n",
    "        a.append(let)\n",
    "        letter=' '\n",
    "f.close()\n",
    "        "
   ]
  },
  {
   "cell_type": "code",
   "execution_count": 38,
   "metadata": {},
   "outputs": [
    {
     "name": "stdout",
     "output_type": "stream",
     "text": [
      "14\n",
      "\n",
      "22\n",
      "\n",
      "15\n",
      "\n",
      "[0, 1, 2, 3, 4, 5, 6, 7, 8, 9, 10, 11, 12, 13, 14]\n",
      "[[0, 5, 7, 2, 9, 10, 12, 11, 6, 7, 15, 12, 4, 5, 7, 9, 2, 1, 7, 14, 5, 1], [5, 0, 8, 10, 17, 4, 8, 9, 21, 7, 13, 8, 7, 2, 12, 4, 6, 9, 5, 9, 10, 8], [7, 8, 0, 6, 9, 10, 11, 9, 4, 3, 1, 2, 9, 10, 15, 7, 9, 13, 21, 4, 8, 7], [2, 10, 6, 0, 11, 8, 10, 3, 8, 5, 9, 17, 13, 4, 9, 1, 22, 10, 6, 2, 1, 4], [9, 17, 9, 11, 0, 13, 6, 2, 3, 10, 6, 5, 8, 11, 34, 89, 7, 32, 1, 7, 6, 9], [10, 4, 10, 8, 13, 0, 10, 4, 2, 6, 7, 2, 1, 4, 5, 11, 21, 1, 9, 12, 9, 8], [12, 8, 11, 10, 6, 10, 0, 5, 6, 9, 12, 14, 9, 5, 4, 8, 4, 3, 9, 10, 22, 9], [11, 9, 9, 3, 2, 4, 5, 0, 10, 3, 6, 2, 5, 16, 11, 7, 8, 12, 1, 6, 32, 11], [6, 21, 4, 8, 3, 2, 6, 10, 0, 8, 6, 5, 3, 10, 11, 3, 1, 6, 8, 2, 8, 9], [7, 7, 3, 5, 10, 6, 9, 3, 8, 0, 3, 8, 1, 4, 5, 7, 2, 3, 49, 2, 21, 22], [15, 13, 1, 9, 6, 7, 12, 6, 6, 3, 0, 7, 8, 12, 4, 5, 10, 11, 14, 2, 9, 1], [12, 8, 2, 17, 5, 2, 14, 2, 5, 8, 7, 0, 2, 3, 4, 7, 13, 18, 9, 12, 1, 10], [4, 7, 9, 13, 8, 1, 9, 5, 3, 1, 8, 2, 0, 12, 10, 3, 17, 21, 6, 7, 8, 9], [5, 2, 10, 4, 11, 4, 5, 16, 10, 4, 12, 3, 12, 0, 3, 12, 15, 7, 9, 3, 10, 11], [7, 12, 15, 9, 34, 5, 4, 11, 11, 5, 4, 4, 10, 3, 0, 12, 5, 7, 8, 3, 2, 11], [9, 4, 7, 1, 89, 11, 8, 7, 3, 7, 5, 7, 3, 12, 12, 0, 6, 9, 10, 8, 9, 10], [2, 6, 9, 22, 7, 21, 4, 8, 1, 2, 10, 13, 17, 15, 5, 6, 0, 4, 9, 15, 7, 11], [1, 9, 13, 10, 32, 1, 3, 12, 6, 3, 11, 18, 21, 7, 7, 9, 4, 0, 3, 8, 9, 16], [7, 5, 21, 6, 1, 9, 9, 1, 8, 49, 14, 9, 6, 9, 8, 10, 9, 3, 0, 7, 9, 5], [14, 9, 4, 2, 7, 12, 10, 6, 2, 2, 2, 12, 7, 3, 3, 8, 15, 8, 7, 0, 9, 10], [5, 10, 8, 1, 6, 9, 22, 32, 8, 21, 9, 1, 8, 10, 2, 9, 7, 9, 9, 9, 0, 8], [1, 8, 7, 4, 9, 8, 9, 11, 9, 22, 1, 10, 9, 11, 11, 10, 11, 16, 5, 10, 8, 0]]\n"
     ]
    }
   ],
   "source": [
    "f=open(\"input.txt\",\"r\")\n",
    "stt=f.readline()\n",
    "print(stt)\n",
    "st=f.readline()\n",
    "print(st)\n",
    "st2=f.readline()\n",
    "print(st2)\n",
    "a=[]\n",
    "line=f.readline()\n",
    "for i in line.split():\n",
    "    a.append(int(i))\n",
    "print(a)\n",
    "ar1=[]\n",
    "ar=[]\n",
    "l=f.readlines()[2:24]\n",
    "for line in l:\n",
    "    for i in line.split():\n",
    "        ar.append(int(i))\n",
    "    ar1.append(ar)\n",
    "    ar=[]\n",
    "    \n",
    "print(ar1)\n",
    "\n",
    "f.close()"
   ]
  },
  {
   "cell_type": "code",
   "execution_count": null,
   "metadata": {},
   "outputs": [],
   "source": []
  },
  {
   "cell_type": "code",
   "execution_count": null,
   "metadata": {},
   "outputs": [],
   "source": []
  },
  {
   "cell_type": "code",
   "execution_count": null,
   "metadata": {},
   "outputs": [],
   "source": []
  },
  {
   "cell_type": "code",
   "execution_count": null,
   "metadata": {},
   "outputs": [],
   "source": []
  },
  {
   "cell_type": "code",
   "execution_count": null,
   "metadata": {},
   "outputs": [],
   "source": []
  },
  {
   "cell_type": "code",
   "execution_count": null,
   "metadata": {},
   "outputs": [],
   "source": []
  },
  {
   "cell_type": "code",
   "execution_count": null,
   "metadata": {},
   "outputs": [],
   "source": []
  },
  {
   "cell_type": "code",
   "execution_count": null,
   "metadata": {},
   "outputs": [],
   "source": []
  },
  {
   "cell_type": "code",
   "execution_count": null,
   "metadata": {},
   "outputs": [],
   "source": []
  }
 ],
 "metadata": {
  "kernelspec": {
   "display_name": "Python 3",
   "language": "python",
   "name": "python3"
  },
  "language_info": {
   "codemirror_mode": {
    "name": "ipython",
    "version": 3
   },
   "file_extension": ".py",
   "mimetype": "text/x-python",
   "name": "python",
   "nbconvert_exporter": "python",
   "pygments_lexer": "ipython3",
   "version": "3.7.3"
  }
 },
 "nbformat": 4,
 "nbformat_minor": 2
}
