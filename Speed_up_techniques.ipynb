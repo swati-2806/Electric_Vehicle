{
 "cells": [
  {
   "cell_type": "code",
   "execution_count": 36,
   "metadata": {},
   "outputs": [],
   "source": [
    "import numpy as np\n",
    "import networkx as nx\n",
    "from scipy.optimize import minimize\n",
    "import matplotlib.pyplot as plt\n",
    "import math\n"
   ]
  },
  {
   "cell_type": "code",
   "execution_count": 37,
   "metadata": {},
   "outputs": [],
   "source": [
    "#total budget B for the total number of chargers\n",
    "#B=2\n",
    "#B=14\n",
    "f=open(\"input_15nodes.txt\",\"r\")\n",
    "B=int(f.readline())\n",
    "#No. of nodes=4\n",
    "#nodes=4\n",
    "#nodes=22\n",
    "nodes=int(f.readline())\n",
    "#total no. of poi\n",
    "#pi=2\n",
    "pi=int(f.readline())\n",
    "#poi nodes\n",
    "#v=[0,1]\n",
    "#v=[0,1,2,3,4,5,6,7,8,9,10,11,12,13,14]\n",
    "v=[]\n",
    "line=f.readline()\n",
    "for i in line.split():\n",
    "    v.append(int(i))\n",
    "#candidate location nodes\n",
    "#W=[2,3]\n",
    "#W=[15,16,17,18,19,20,21]\n",
    "W=[]\n",
    "line=f.readline()\n",
    "for i in line.split():\n",
    "    W.append(int(i))\n",
    "#total no. of candidate location\n",
    "#m=2\n",
    "m=int(f.readline())\n",
    "#d stands for local charging demand\n",
    "#d=[2,3]\n",
    "#d=[1,10,6,20,11,5,15]\n",
    "d=[]\n",
    "line=f.readline()\n",
    "for i in line.split():\n",
    "    d.append(int(i))\n",
    "#n stands for no. of chargers\n",
    "#n=[0,0]\n",
    "n=[]\n",
    "line=f.readline()\n",
    "for i in line.split():\n",
    "    n.append(int(i))\n",
    "chargers=[]\n",
    "line=f.readline()\n",
    "for i in line.split():\n",
    "    chargers.append(int(i))\n",
    "#r stands for radius of the candidate station\n",
    "r=int(f.readline())\n",
    "#u is the rate of local charging demand satisfied by one charger\n",
    "u=int(f.readline())\n",
    "#alpha is an adjustible parameter\n",
    "alpha=float(f.readline())\n",
    "#nb is the no of chargers deployed\n",
    "nb=int(f.readline())\n",
    "#dist[i][j] is the distance between two nodes\n",
    "#dist=[[0,4,8,9],\n",
    " #  [4,0,7,3],\n",
    "  # [8,7,0,6],\n",
    "   #[9,3,6,0]]\n",
    "dist=[]\n",
    "ar=[]\n",
    "l=f.readlines()\n",
    "for line in l:\n",
    "    for i in line.split():\n",
    "        ar.append(int(i))\n",
    "    dist.append(ar)\n",
    "    ar=[]\n",
    "\n",
    "f.close()"
   ]
  },
  {
   "cell_type": "code",
   "execution_count": 38,
   "metadata": {},
   "outputs": [
    {
     "data": {
      "text/plain": [
       "0"
      ]
     },
     "execution_count": 38,
     "metadata": {},
     "output_type": "execute_result"
    }
   ],
   "source": [
    "#fn. for reward for POI coverage\n",
    "\n",
    "\n",
    "def reward_poi(W,d,r,n):\n",
    "    global m\n",
    "    global v\n",
    "    global dist\n",
    "    PS=[]\n",
    "    for i in range(0,m):\n",
    "        if(n[i]>=1):\n",
    "            j=W[i]\n",
    "            for k in v:\n",
    "                if (dist[j][k]<=r):\n",
    "                    if k not in PS:\n",
    "                        PS.append(k)\n",
    "    return len(PS)\n",
    "    \n",
    "reward_poi(W,d,r,n)"
   ]
  },
  {
   "cell_type": "code",
   "execution_count": 39,
   "metadata": {},
   "outputs": [
    {
     "data": {
      "text/plain": [
       "0"
      ]
     },
     "execution_count": 39,
     "metadata": {},
     "output_type": "execute_result"
    }
   ],
   "source": [
    "\n",
    "#fn. for reward for local charging demand\n",
    "def reward_lcd(W,d,r,n):\n",
    "    global m\n",
    "    global u\n",
    "    Rd=0\n",
    "    for j in range(0,m):\n",
    "        rd=0\n",
    "        if (d[j]<u*n[j]):\n",
    "            rd=d[j]\n",
    "        else:\n",
    "            rd=u*n[j]\n",
    "        Rd=Rd+rd\n",
    "    return Rd\n",
    " \n",
    "    \n",
    "    \n",
    "reward_lcd(W,d,r,n)"
   ]
  },
  {
   "cell_type": "code",
   "execution_count": 40,
   "metadata": {},
   "outputs": [
    {
     "data": {
      "text/plain": [
       "[1, 1, 3, 2, 3]"
      ]
     },
     "execution_count": 40,
     "metadata": {},
     "output_type": "execute_result"
    }
   ],
   "source": [
    "#fn. for increased reward for POI coverage\n",
    "def increased_reward_for_poi(W,d,r,n):\n",
    "    global m\n",
    "    maxm=0\n",
    "    j=0\n",
    "    global alpha\n",
    "    rc=[]\n",
    "    for i in range(0,m):\n",
    "        n_plus=[]\n",
    "        n_plus=n_plus+n\n",
    "        rew_org_poi=reward_poi(W,d,r,n)\n",
    "        n_plus[i]=n[i]+1\n",
    "        rew_new_poi=reward_poi(W,d,r,n_plus)\n",
    "        inc_reward_poi=rew_new_poi-rew_org_poi\n",
    "        rc.append(inc_reward_poi)\n",
    "    return rc\n",
    "    \n",
    "    \n",
    "increased_reward_for_poi(W,d,r,n)\n"
   ]
  },
  {
   "cell_type": "code",
   "execution_count": 41,
   "metadata": {},
   "outputs": [
    {
     "data": {
      "text/plain": [
       "[2, 2, 1, 2, 2]"
      ]
     },
     "execution_count": 41,
     "metadata": {},
     "output_type": "execute_result"
    }
   ],
   "source": [
    "#fn. for increased reward \n",
    "def increased_reward_for_lcd(W,d,r,n):\n",
    "    global m\n",
    "    maxm=0\n",
    "    j=0\n",
    "    global alpha\n",
    "    rd=[]\n",
    "    for i in range(0,m):\n",
    "        n_plus=[]\n",
    "        n_plus=n_plus+n\n",
    "        rew_org_lcd=reward_lcd(W,d,r,n)\n",
    "        n_plus[i]=n[i]+1\n",
    "        rew_new_lcd=reward_lcd(W,d,r,n_plus)\n",
    "        inc_reward_lcd=rew_new_lcd-rew_org_lcd\n",
    "        rd.append(inc_reward_lcd)\n",
    "    return rd\n",
    "    \n",
    "    \n",
    "increased_reward_for_lcd(W,d,r,n)\n"
   ]
  },
  {
   "cell_type": "code",
   "execution_count": 42,
   "metadata": {},
   "outputs": [],
   "source": [
    "def increased_reward_for_j_poi(W,d,r,n,j):\n",
    "    global alpha\n",
    "    n_plus=[]\n",
    "    n_plus=n_plus+n\n",
    "    rew_org_poi=reward_poi(W,d,r,n)\n",
    "    n_plus[j]=n[j]+1\n",
    "    rew_new_poi=reward_poi(W,d,r,n_plus)\n",
    "    inc_reward_poi=rew_new_poi-rew_org_poi\n",
    "    return inc_reward_poi\n"
   ]
  },
  {
   "cell_type": "code",
   "execution_count": 43,
   "metadata": {},
   "outputs": [],
   "source": [
    "def increased_reward_for_j_lcd(W,d,r,n,j):\n",
    "    global alpha\n",
    "    n_plus=[]\n",
    "    n_plus=n_plus+n\n",
    "    rew_org_lcd=reward_lcd(W,d,r,n)\n",
    "    n_plus[j]=n[j]+1\n",
    "    rew_new_lcd=reward_lcd(W,d,r,n_plus)\n",
    "    inc_reward_lcd=rew_new_lcd-rew_org_lcd\n",
    "    return inc_reward_lcd\n"
   ]
  },
  {
   "cell_type": "code",
   "execution_count": 44,
   "metadata": {},
   "outputs": [
    {
     "data": {
      "text/plain": [
       "[6, 2, 0, 1, 1]"
      ]
     },
     "execution_count": 44,
     "metadata": {},
     "output_type": "execute_result"
    }
   ],
   "source": [
    "def fast_CG_Algo():\n",
    "    global W\n",
    "    global d\n",
    "    global r\n",
    "    global n\n",
    "    global nb\n",
    "    global B\n",
    "    global alpha\n",
    "    rc=[]\n",
    "    rd=[]\n",
    "    rc=increased_reward_for_poi(W,d,r,n)\n",
    "    rd=increased_reward_for_lcd(W,d,r,n)\n",
    "    while(nb<B):\n",
    "        maxm=0\n",
    "        j=0\n",
    "        for i in range(0,m):\n",
    "            inc_rew=alpha*rc[i]+(1-alpha)*rd[i]\n",
    "            if(inc_rew>maxm):\n",
    "                maxm=inc_rew\n",
    "                j=i\n",
    "        if alpha*increased_reward_for_j_poi(W,d,r,n,j)+(1-alpha)*increased_reward_for_j_lcd(W,d,r,n,j)==0:\n",
    "            break\n",
    "        if n[j]==0:\n",
    "            n[j]=n[j]+1\n",
    "            nb=nb+1\n",
    "            rc=increased_reward_for_poi(W,d,r,n)\n",
    "        elif n[j]==1 and n[j]<math.floor(d[j]/u):\n",
    "            minm=0\n",
    "            if (math.floor(d[j]/u)-n[j])<(B-nb):\n",
    "                minm=math.floor(d[j]/u)-n[j]\n",
    "            else:\n",
    "                minm=B-nb\n",
    "            n[j]=n[j]+minm\n",
    "            nb=nb+minm\n",
    "        elif n[j]==math.floor(d[j]/u):\n",
    "            n[j]=n[j]+1\n",
    "            nb=nb+1\n",
    "        rd[j]=increased_reward_for_j_lcd(W,d,r,n,j)\n",
    "    return(n)\n",
    "    \n",
    "\n",
    "fast_CG_Algo()\n",
    "                \n",
    "        "
   ]
  },
  {
   "cell_type": "code",
   "execution_count": 45,
   "metadata": {},
   "outputs": [
    {
     "name": "stdout",
     "output_type": "stream",
     "text": [
      "No. of chargers in each charging station before applying greedy algorithm:\n",
      "[0, 0, 0, 0, 0]\n",
      "No. of chargers in each charging station after applying greedy algorithm:\n",
      "[6, 2, 0, 1, 1]\n"
     ]
    }
   ],
   "source": [
    "global chargers\n",
    "print(\"No. of chargers in each charging station before applying greedy algorithm:\")\n",
    "print(chargers)\n",
    "print(\"No. of chargers in each charging station after applying greedy algorithm:\")\n",
    "print(fast_CG_Algo())"
   ]
  },
  {
   "cell_type": "code",
   "execution_count": 46,
   "metadata": {},
   "outputs": [
    {
     "data": {
      "image/png": "[encoded data removed]",
      "text/plain": [
       "<Figure size 432x288 with 1 Axes>"
      ]
     },
     "metadata": {},
     "output_type": "display_data"
    },
    {
     "data": {
      "image/png": "[encoded data removed]",
      "text/plain": [
       "<Figure size 432x288 with 1 Axes>"
      ]
     },
     "metadata": {},
     "output_type": "display_data"
    }
   ],
   "source": [
    "G = nx.Graph()\n",
    "for i in W:\n",
    "    for j in W:\n",
    "         G.add_edge(i, j, weight=dist[i][j])\n",
    "            \n",
    "temp=W[0]                \n",
    "net_labels1={}\n",
    "j=0\n",
    "for i in W:\n",
    "    net_labels1[i] = str(i-temp) + \"#\" + str(chargers[j])\n",
    "    j=j+1   \n",
    "            \n",
    "nx.draw(G,with_labels=True, weight=dist, labels = net_labels1, font_color = \"red\", node_color='0.75', edge_color = \"green\")\n",
    "plt.savefig(\"candidate-location_before1.png\", dpi=250)\n",
    "plt.show()\n",
    "\n",
    "            \n",
    "for i in range(0,m):\n",
    "    if n[i]==0:\n",
    "        G.remove_node(W[i])\n",
    "w=[]\n",
    "c=[]\n",
    "for i in range(0,m):\n",
    "    if n[i]!=0:\n",
    "        w.append(W[i])\n",
    "        c.append(n[i])\n",
    "        \n",
    "net_labels2={} \n",
    "j=0\n",
    "for i in w:\n",
    "    net_labels2[i] = str(i-temp) + \"#\" + str(c[j])\n",
    "    j=j+1\n",
    "\n",
    "nx.draw(G,with_labels=True, weight=dist,labels = net_labels2,font_color = \"red\", node_color='0.75', edge_color = \"green\")\n",
    "plt.savefig(\"candidate-location_after1.png\", dpi=250)\n",
    "plt.show()"
   ]
  },
  {
   "cell_type": "code",
   "execution_count": null,
   "metadata": {},
   "outputs": [],
   "source": []
  }
 ],
 "metadata": {
  "kernelspec": {
   "display_name": "Python 3",
   "language": "python",
   "name": "python3"
  },
  "language_info": {
   "codemirror_mode": {
    "name": "ipython",
    "version": 3
   },
   "file_extension": ".py",
   "mimetype": "text/x-python",
   "name": "python",
   "nbconvert_exporter": "python",
   "pygments_lexer": "ipython3",
   "version": "3.7.3"
  }
 },
 "nbformat": 4,
 "nbformat_minor": 2
}
